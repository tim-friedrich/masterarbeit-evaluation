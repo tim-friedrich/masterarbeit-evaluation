{
 "cells": [
  {
   "cell_type": "code",
   "execution_count": 170,
   "metadata": {},
   "outputs": [],
   "source": [
    "import pandas as pd\n",
    "import numpy as np\n",
    "import matplotlib.pyplot as plt\n",
    "import networkx as nx\n",
    "import math\n",
    "import json\n"
   ]
  },
  {
   "cell_type": "code",
   "execution_count": 191,
   "metadata": {},
   "outputs": [],
   "source": [
    "range_1_1 = pd.read_json(\"full_path_without/fullPath1Interval1.json\")\n",
    "range_5_1 = pd.read_json(\"full_path_without/fullPath1Interval5.json\")\n",
    "range_10_1 = pd.read_json(\"full_path_without/fullPath1Interval10.json\")\n",
    "range_30_1 = pd.read_json(\"full_path_without/fullPath1Interval30.json\")\n",
    "range_60_1 = pd.read_json(\"full_path_without/fullPath1Interval60.json\")\n",
    "range_90_1 = pd.read_json(\"full_path_without/fullPath1Interval90.json\")\n",
    "range_120_1 = pd.read_json(\"full_path_without/fullPath1Interval120.json\")\n",
    "\n",
    "range_1_2 = pd.read_json(\"full_path_without/fullPath2Interval1.json\")\n",
    "range_5_2 = pd.read_json(\"full_path_without/fullPath2Interval5.json\")\n",
    "range_10_2 = pd.read_json(\"full_path_without/fullPath2Interval10.json\")\n",
    "range_30_2 = pd.read_json(\"full_path_without/fullPath2Interval30.json\")\n",
    "range_60_2 = pd.read_json(\"full_path_without/fullPath2Interval60.json\")\n",
    "range_90_2 = pd.read_json(\"full_path_without/fullPath2Interval90.json\")\n",
    "range_120_2 = pd.read_json(\"full_path_without/fullPath2Interval120.json\")\n",
    "\n",
    "range_1_3 = pd.read_json(\"full_path_without/fullPath3Interval1.json\")\n",
    "range_5_3 = pd.read_json(\"full_path_without/fullPath3Interval5.json\")\n",
    "range_10_3 = pd.read_json(\"full_path_without/fullPath3Interval10.json\")\n",
    "range_30_3 = pd.read_json(\"full_path_without/fullPath3Interval30.json\")\n",
    "range_60_3 = pd.read_json(\"full_path_without/fullPath3Interval60.json\")\n",
    "range_90_3 = pd.read_json(\"full_path_without/fullPath3Interval90.json\")\n",
    "range_120_3 = pd.read_json(\"full_path_without/fullPath3Interval120.json\")\n",
    "\n",
    "all_10 = [range_10_1, range_10_2, range_10_3]\n",
    "\n",
    "all_sets = [range_1_1, range_5_1, range_10_1, range_30_1, range_60_1, range_90_1, range_120_1, range_1_2, range_5_2, \n",
    "            range_10_2, range_30_2, range_60_2, range_90_2, range_90_2, range_120_2, range_1_3, range_5_3, range_10_3,\n",
    "            range_30_3, range_60_3, range_90_3, range_120_3]\n",
    "\n",
    "def combine_sw_data_for(dataset1, dataset2, dataset3):\n",
    "    cols = ['peerId', 'method', 'from', 'url', 'loadTime', 'currentTime']\n",
    "    result = pd.DataFrame(columns=cols);\n",
    "    for index, peer in enumerate(range_10_1['result']):\n",
    "        stats1 = dataset1['result'][index]['swStats']\n",
    "        stats2 = dataset2['result'][index]['swStats']\n",
    "        stats3 = dataset3['result'][index]['swStats']\n",
    "        if(index == 29):\n",
    "            #print(stats1)\n",
    "            continue\n",
    "        df1 = pd.DataFrame(stats1, columns=cols)\n",
    "        df2 = pd.DataFrame(stats2, columns=cols)\n",
    "        df3 = pd.DataFrame(swStats3, columns=cols)\n",
    "        result = pd.concat([result, df1, df2, df3])\n",
    "    return result\n",
    "\n",
    "all_sw_1 = combine_sw_data_for(range_1_1, range_1_2, range_1_3)\n",
    "all_sw_5 = combine_sw_data_for(range_5_1, range_5_2, range_5_3)\n",
    "all_sw_10 = combine_sw_data_for(range_10_1, range_10_2, range_10_3)\n",
    "all_sw_30 = combine_sw_data_for(range_30_1, range_30_2, range_30_3)\n",
    "all_sw_60 = combine_sw_data_for(range_60_1, range_60_2, range_60_3)\n",
    "all_sw_90 = combine_sw_data_for(range_90_1, range_90_2, range_90_3)\n",
    "all_sw_120 = combine_sw_data_for(range_120_1, range_120_2, range_120_3)\n",
    "all_sw_sets = [all_sw_1, all_sw_5, all_sw_10, all_sw_30, all_sw_60, all_sw_90, all_sw_120]\n",
    "\n",
    "ranges_labels = [\"1 Sekunde\",\"5 Sekunden\", \"10 Sekunden\", \"30 Sekunden\", \"60 Sekunden\", \"90 Sekunden\", \"120 Sekunden\"]\n",
    "ranges_index = [1, 5, 10, 30, 60, 90, 120]\n",
    "sWcols = ['peerId', 'method', 'from', 'url', 'loadTime', 'currentTime']"
   ]
  },
  {
   "cell_type": "code",
   "execution_count": null,
   "metadata": {},
   "outputs": [],
   "source": []
  },
  {
   "cell_type": "code",
   "execution_count": 182,
   "metadata": {},
   "outputs": [
    {
     "name": "stdout",
     "output_type": "stream",
     "text": [
      "[[1147, 2333], [1142, 2338], [1173, 2306], [1186, 2294], [1194, 2281], [1184, 2288], [1190, 2280]]\n"
     ]
    },
    {
     "data": {
      "image/png": "[encoded data removed]",
      "text/plain": [
       "<Figure size 432x288 with 1 Axes>"
      ]
     },
     "metadata": {
      "needs_background": "light"
     },
     "output_type": "display_data"
    }
   ],
   "source": [
    "\n",
    "def plot_stacked(datasets, labels):\n",
    "    headers = ['Peer', 'Server']\n",
    "    cols = ['peerId', 'method', 'from', 'url', 'loadTime', 'currentTime']\n",
    "\n",
    "    result = []\n",
    "    for dataset in datasets:\n",
    "        grouped = dataset.groupby('method').size()\n",
    "        result.append([grouped[0], grouped[1]])\n",
    "\n",
    "    print(result)\n",
    "    df_grouped = pd.DataFrame(result, columns=headers, index=labels)\n",
    "\n",
    "    df_grouped.plot(kind='bar', stacked=True)\n",
    "plot_stacked(all_sw_sets, ranges_labels)"
   ]
  },
  {
   "cell_type": "code",
   "execution_count": 183,
   "metadata": {},
   "outputs": [
    {
     "name": "stdout",
     "output_type": "stream",
     "text": [
      "             peerId          method             from  \\\n",
      "0   ef95bf89-aac3-4    peerResponse  016cf5b6-22ea-4   \n",
      "1   ef95bf89-aac3-4  serverResponse           server   \n",
      "2   ef95bf89-aac3-4  serverResponse           server   \n",
      "3   ef95bf89-aac3-4  serverResponse           server   \n",
      "4   ef95bf89-aac3-4  serverResponse           server   \n",
      "..              ...             ...              ...   \n",
      "21  d8b4eb4c-42fa-4  serverResponse           server   \n",
      "22  d8b4eb4c-42fa-4  serverResponse           server   \n",
      "23  d8b4eb4c-42fa-4  serverResponse           server   \n",
      "24  d8b4eb4c-42fa-4  serverResponse           server   \n",
      "25  d8b4eb4c-42fa-4    peerResponse  c226d560-6111-4   \n",
      "\n",
      "                                                  url  loadTime    currentTime  \n",
      "0   https://hackathon.schul-cloud.org/images/manif...     8.395  1567608545858  \n",
      "1   https://hackathon.schul-cloud.org/fonts/ptsans...   548.090  1567608553906  \n",
      "2   https://hackathon.schul-cloud.org/vendor-optim...   548.615  1567608553907  \n",
      "3   https://hackathon.schul-cloud.org/fonts/ptsans...   550.990  1567608553909  \n",
      "4   https://hackathon.schul-cloud.org/fonts/ptsans...   551.360  1567608553909  \n",
      "..                                                ...       ...            ...  \n",
      "21  https://hackathon.schul-cloud.org/scripts/dash...   237.570  1567610923414  \n",
      "22  https://hackathon.schul-cloud.org/images/foote...   239.155  1567610923415  \n",
      "23  https://hackathon.schul-cloud.org/images/logo/...   223.790  1567610923417  \n",
      "24  https://hackathon.schul-cloud.org/vendor-optim...   215.875  1567610923700  \n",
      "25  https://hackathon.schul-cloud.org/images/manif...   268.220  1567610924234  \n",
      "\n",
      "[17783 rows x 6 columns]\n",
      "[[1322, 16461], [8358, 222]]\n"
     ]
    },
    {
     "data": {
      "image/png": "[encoded data removed]",
      "text/plain": [
       "<Figure size 432x288 with 1 Axes>"
      ]
     },
     "metadata": {
      "needs_background": "light"
     },
     "output_type": "display_data"
    }
   ],
   "source": [
    "courses_nav = range_5_1['result'][0]['navigationsStart']['/courses/']\n",
    "def filter_first_load(time):\n",
    "    def func(row):\n",
    "        return row['currentTime'] < time\n",
    "    return func\n",
    "    \n",
    "def filter_turbo_load(time):\n",
    "    def func(row):\n",
    "        return row['currentTime'] >= time\n",
    "    return func\n",
    "\n",
    "def filter_sw_stats_for(datasets, func):\n",
    "    \n",
    "    result = pd.DataFrame(columns=sWcols)\n",
    "\n",
    "    for dataset in datasets:\n",
    "        res = dataset['result']\n",
    "        for peer in res.values:\n",
    "            start = peer['navigationsStart']['/courses/']\n",
    "            swStats = filter(func(start), peer['swStats'])\n",
    "            df = pd.DataFrame(swStats, columns=sWcols)\n",
    "            result = pd.concat([result, df])\n",
    "    return result\n",
    "\n",
    "first_loads = filter_sw_stats_for(all_sets, filter_first_load)\n",
    "turbo_loads = filter_sw_stats_for(all_sets, filter_turbo_load)\n",
    "\n",
    "plot_stacked([first_loads, turbo_loads], ['First Page Load', 'Turbolinks navigations'])\n"
   ]
  },
  {
   "cell_type": "markdown",
   "metadata": {},
   "source": [
    "# Timeouts"
   ]
  },
  {
   "cell_type": "code",
   "execution_count": 202,
   "metadata": {},
   "outputs": [
    {
     "name": "stdout",
     "output_type": "stream",
     "text": [
      "[[29.666666666666668], [29.666666666666668], [29.0], [29.0], [29.0], [36.666666666666664], [29.0]]\n"
     ]
    },
    {
     "data": {
      "text/plain": [
       "Text(0, 0.5, '#Timeouts')"
      ]
     },
     "execution_count": 202,
     "metadata": {},
     "output_type": "execute_result"
    },
    {
     "data": {
      "image/png": "[encoded data removed]",
      "text/plain": [
       "<Figure size 432x288 with 1 Axes>"
      ]
     },
     "metadata": {
      "needs_background": "light"
     },
     "output_type": "display_data"
    }
   ],
   "source": [
    "result = []\n",
    "for i, dataset in enumerate(all_sw_sets):\n",
    "    # grouped = dataset.groupby('method').size()\n",
    "    #dataset = dataset.loc[data['method'] == 'serverResponse']\n",
    "    serverResponses = dataset.loc[dataset['method'] == 'serverResponse']\n",
    "    mask = serverResponses['loadTime'] >= 3000\n",
    "    timeouts = [serverResponses[mask]['loadTime'].size/3]\n",
    "    result.append(timeouts)\n",
    "print(result)\n",
    "\n",
    "test = pd.DataFrame(result, index=ranges_index, columns=['Timeouts']) \n",
    "plot = test.plot()\n",
    "plot.set_xlabel(\"#Teilnehmer\")\n",
    "plot.set_ylabel(\"#Timeouts\")"
   ]
  },
  {
   "cell_type": "markdown",
   "metadata": {},
   "source": [
    "# Request Load Times Sw"
   ]
  },
  {
   "cell_type": "code",
   "execution_count": 208,
   "metadata": {},
   "outputs": [
    {
     "name": "stdout",
     "output_type": "stream",
     "text": [
      "count    16120.000000\n",
      "mean       419.811791\n",
      "std        591.310590\n",
      "min         17.090000\n",
      "25%        228.793750\n",
      "50%        239.345000\n",
      "75%        314.920000\n",
      "max       3295.845000\n",
      "Name: loadTime, dtype: float64\n",
      "count    8216.000000\n",
      "mean      150.436098\n",
      "std       385.001114\n",
      "min         6.915000\n",
      "25%        43.040000\n",
      "50%        57.865000\n",
      "75%        96.867500\n",
      "max      4366.115000\n",
      "Name: loadTime, dtype: float64\n"
     ]
    }
   ],
   "source": [
    "data = pd.concat(all_sw_sets)\n",
    "serverResponses = data.loc[data['method'] == 'serverResponse']\n",
    "peerResponses = data.loc[data['method'] == 'peerResponse']\n",
    "\n",
    "print(serverResponses['loadTime'].describe())\n",
    "\n",
    "print(peerResponses['loadTime'].describe())"
   ]
  },
  {
   "cell_type": "markdown",
   "metadata": {},
   "source": [
    "# Navigation Timings"
   ]
  },
  {
   "cell_type": "code",
   "execution_count": 220,
   "metadata": {},
   "outputs": [
    {
     "name": "stdout",
     "output_type": "stream",
     "text": [
      "0     {'peerId': 14, 'timeout': 36, 'clientData': {'...\n",
      "1     {'peerId': 17, 'timeout': 2, 'clientData': {'s...\n",
      "2     {'peerId': 26, 'timeout': 65, 'clientData': {'...\n",
      "3     {'peerId': 16, 'timeout': 174, 'clientData': {...\n",
      "4     {'peerId': 1, 'timeout': 187, 'clientData': {'...\n",
      "5     {'peerId': 11, 'timeout': 283, 'clientData': {...\n",
      "6     {'peerId': 20, 'timeout': 364, 'clientData': {...\n",
      "7     {'peerId': 2, 'timeout': 453, 'clientData': {'...\n",
      "8     {'peerId': 18, 'timeout': 474, 'clientData': {...\n",
      "9     {'peerId': 12, 'timeout': 475, 'clientData': {...\n",
      "10    {'peerId': 21, 'timeout': 501, 'clientData': {...\n",
      "11    {'peerId': 10, 'timeout': 549, 'clientData': {...\n",
      "12    {'peerId': 19, 'timeout': 538, 'clientData': {...\n",
      "13    {'peerId': 3, 'timeout': 557, 'clientData': {'...\n",
      "14    {'peerId': 0, 'timeout': 592, 'clientData': {'...\n",
      "15    {'peerId': 6, 'timeout': 598, 'clientData': {'...\n",
      "16    {'peerId': 24, 'timeout': 613, 'clientData': {...\n",
      "17    {'peerId': 27, 'timeout': 634, 'clientData': {...\n",
      "18    {'peerId': 5, 'timeout': 633, 'clientData': {'...\n",
      "19    {'peerId': 23, 'timeout': 663, 'clientData': {...\n",
      "20    {'peerId': 13, 'timeout': 657, 'clientData': {...\n",
      "21    {'peerId': 25, 'timeout': 712, 'clientData': {...\n",
      "22    {'peerId': 7, 'timeout': 751, 'clientData': {'...\n",
      "23    {'peerId': 28, 'timeout': 804, 'clientData': {...\n",
      "24    {'peerId': 29, 'timeout': 805, 'clientData': {...\n",
      "25    {'peerId': 8, 'timeout': 902, 'clientData': {'...\n",
      "26    {'peerId': 9, 'timeout': 910, 'clientData': {'...\n",
      "27    {'peerId': 4, 'timeout': 915, 'clientData': {'...\n",
      "28    {'peerId': 22, 'timeout': 874, 'clientData': {...\n",
      "29    {'peerId': 15, 'timeout': 951, 'clientData': {...\n",
      "Name: result, dtype: object\n",
      "                 result\n",
      "peerId              NaN\n",
      "timeout             NaN\n",
      "clientData          NaN\n",
      "loadingTimes        NaN\n",
      "swStats             NaN\n",
      "requestTimings      NaN\n",
      "navigationsStart    NaN\n"
     ]
    }
   ],
   "source": [
    "res = all_sets[0]['result']\n",
    "print(res)\n",
    "\n",
    "resultCols = ['peerId', 'timeout', 'clientData', 'loadingTimes', 'swStats', 'requestTimings', 'navigationsStart']\n",
    "df = pd.DataFrame(res, columns=resultCols)\n",
    "print(df)"
   ]
  },
  {
   "cell_type": "code",
   "execution_count": null,
   "metadata": {},
   "outputs": [],
   "source": []
  }
 ],
 "metadata": {
  "kernelspec": {
   "display_name": "Python 3",
   "language": "python",
   "name": "python3"
  },
  "language_info": {
   "codemirror_mode": {
    "name": "ipython",
    "version": 3
   },
   "file_extension": ".py",
   "mimetype": "text/x-python",
   "name": "python",
   "nbconvert_exporter": "python",
   "pygments_lexer": "ipython3",
   "version": "3.7.3"
  }
 },
 "nbformat": 4,
 "nbformat_minor": 2
}
